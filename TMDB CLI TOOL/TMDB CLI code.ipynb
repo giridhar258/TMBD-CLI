{
 "cells": [
  {
   "cell_type": "code",
   "execution_count": 7,
   "id": "5311c338-2c51-4add-af57-78142939ca84",
   "metadata": {},
   "outputs": [
    {
     "name": "stdout",
     "output_type": "stream",
     "text": [
      "Defaulting to user installation because normal site-packages is not writeable\n",
      "Requirement already satisfied: requests in c:\\programdata\\anaconda3\\lib\\site-packages (2.32.3)\n",
      "Requirement already satisfied: charset-normalizer<4,>=2 in c:\\programdata\\anaconda3\\lib\\site-packages (from requests) (3.3.2)\n",
      "Requirement already satisfied: idna<4,>=2.5 in c:\\programdata\\anaconda3\\lib\\site-packages (from requests) (3.7)\n",
      "Requirement already satisfied: urllib3<3,>=1.21.1 in c:\\programdata\\anaconda3\\lib\\site-packages (from requests) (2.3.0)\n",
      "Requirement already satisfied: certifi>=2017.4.17 in c:\\programdata\\anaconda3\\lib\\site-packages (from requests) (2025.4.26)\n"
     ]
    }
   ],
   "source": [
    "import sys\n",
    "!{sys.executable} -m pip install requests\n"
   ]
  },
  {
   "cell_type": "code",
   "execution_count": 9,
   "id": "70520f1e-d63d-4fd3-8b20-d779a0929456",
   "metadata": {},
   "outputs": [],
   "source": [
    "import requests\n",
    "import argparse\n",
    "import sys\n",
    "\n",
    "# 🔑 Replace with your actual TMDB API key\n",
    "API_KEY = \"YOUR_TMDB_API_KEY\"\n",
    "BASE_URL = \"https://api.themoviedb.org/3/movie/\"\n",
    "\n",
    "# Mapping movie type argument to TMDB endpoints\n",
    "MOVIE_TYPES = {\n",
    "    \"playing\": \"now_playing\",\n",
    "    \"popular\": \"popular\",\n",
    "    \"top\": \"top_rated\",\n",
    "    \"upcoming\": \"upcoming\"\n",
    "}\n",
    "\n",
    "def fetch_movies(movie_type):\n",
    "    \"\"\"Fetch movies from TMDB API based on type.\"\"\"\n",
    "    if movie_type not in MOVIE_TYPES:\n",
    "        raise ValueError(f\"Invalid type '{movie_type}'. Valid options: {list(MOVIE_TYPES.keys())}\")\n",
    "    \n",
    "    url = f\"{BASE_URL}{MOVIE_TYPES[movie_type]}\"\n",
    "    params = {\"api_key\": API_KEY, \"language\": \"en-US\", \"page\": 1}\n",
    "    \n",
    "    try:\n",
    "        response = requests.get(url, params=params)\n",
    "        response.raise_for_status()\n",
    "        data = response.json()\n",
    "        return data.get(\"results\", [])\n",
    "    except requests.exceptions.RequestException as e:\n",
    "        print(f\"⚠️ API request failed: {e}\")\n",
    "        return []\n",
    "\n",
    "def display_movies(movies, movie_type):\n",
    "    \"\"\"Display fetched movies in a clean format.\"\"\"\n",
    "    print(f\"\\n🎬 {movie_type.upper()} MOVIES\\n\" + \"-\"*40)\n",
    "    if not movies:\n",
    "        print(\"No movies found.\")\n",
    "        return\n",
    "    \n",
    "    for i, movie in enumerate(movies[:10], 1):  # Show top 10 only\n",
    "        title = movie.get(\"title\", \"N/A\")\n",
    "        release_date = movie.get(\"release_date\", \"Unknown\")\n",
    "        rating = movie.get(\"vote_average\", \"N/A\")\n",
    "        print(f\"{i}. {title} (Release: {release_date}, Rating: {rating})\")\n",
    "\n",
    "def main(args=None):\n",
    "    parser = argparse.ArgumentParser(description=\"TMDB CLI Tool\")\n",
    "    parser.add_argument(\"--type\", required=True, choices=MOVIE_TYPES.keys(), help=\"Type of movies to fetch\")\n",
    "    \n",
    "    if args is None:\n",
    "        args = []\n",
    "    parsed_args = parser.parse_args(args)\n",
    "    \n",
    "    movies = fetch_movies(parsed_args.type)\n",
    "    display_movies(movies, parsed_args.type)\n",
    "\n",
    "\n"
   ]
  },
  {
   "cell_type": "code",
   "execution_count": 10,
   "id": "16da931d-08d9-420c-b28c-51f0dbdce3b1",
   "metadata": {},
   "outputs": [
    {
     "name": "stdout",
     "output_type": "stream",
     "text": [
      "⚠️ API request failed: 401 Client Error: Unauthorized for url: https://api.themoviedb.org/3/movie/popular?api_key=YOUR_TMDB_API_KEY&language=en-US&page=1\n",
      "\n",
      "🎬 POPULAR MOVIES\n",
      "----------------------------------------\n",
      "No movies found.\n"
     ]
    }
   ],
   "source": [
    "main([\"--type\", \"popular\"])\n"
   ]
  },
  {
   "cell_type": "code",
   "execution_count": 17,
   "id": "48943f61-f0be-4e47-8f13-d38e15f4d5e2",
   "metadata": {},
   "outputs": [
    {
     "name": "stdout",
     "output_type": "stream",
     "text": [
      "\n",
      "# TMDB CLI Tool 🎬\n",
      "\n",
      "A simple CLI tool to fetch movies from The Movie Database (TMDB).\n",
      "\n",
      "## Usage\n",
      "Run inside Jupyter Notebook:\n",
      "\n",
      "```python\n",
      "main([\"--type\", \"popular\"])\n",
      "main([\"--type\", \"playing\"])\n",
      "main([\"--type\", \"top\"])\n",
      "main([\"--type\", \"upcoming\"])\n",
      "\n"
     ]
    }
   ],
   "source": [
    "readme = \"\"\"\n",
    "# TMDB CLI Tool 🎬\n",
    "\n",
    "A simple CLI tool to fetch movies from The Movie Database (TMDB).\n",
    "\n",
    "## Usage\n",
    "Run inside Jupyter Notebook:\n",
    "\n",
    "```python\n",
    "main([\"--type\", \"popular\"])\n",
    "main([\"--type\", \"playing\"])\n",
    "main([\"--type\", \"top\"])\n",
    "main([\"--type\", \"upcoming\"])\n",
    "\"\"\"\n",
    "print(readme)"
   ]
  },
  {
   "cell_type": "code",
   "execution_count": 18,
   "id": "d532d2c4-619a-4bd5-8d94-8e919b16f592",
   "metadata": {},
   "outputs": [
    {
     "name": "stdout",
     "output_type": "stream",
     "text": [
      "✅ README.md file created successfully!\n"
     ]
    }
   ],
   "source": [
    "with open(\"README.md\", \"w\", encoding=\"utf-8\") as f:\n",
    "    f.write(readme)\n",
    "\n",
    "print(\"✅ README.md file created successfully!\")\n"
   ]
  },
  {
   "cell_type": "code",
   "execution_count": null,
   "id": "cef19db5-4b4b-4776-aab1-ab026751a5c3",
   "metadata": {},
   "outputs": [],
   "source": []
  }
 ],
 "metadata": {
  "kernelspec": {
   "display_name": "Python 3 (ipykernel)",
   "language": "python",
   "name": "python3"
  },
  "language_info": {
   "codemirror_mode": {
    "name": "ipython",
    "version": 3
   },
   "file_extension": ".py",
   "mimetype": "text/x-python",
   "name": "python",
   "nbconvert_exporter": "python",
   "pygments_lexer": "ipython3",
   "version": "3.13.5"
  }
 },
 "nbformat": 4,
 "nbformat_minor": 5
}
